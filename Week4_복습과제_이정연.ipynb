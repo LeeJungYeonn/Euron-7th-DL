{
  "cells": [
    {
      "cell_type": "markdown",
      "metadata": {
        "id": "JmbrNadxsBr7"
      },
      "source": [
        "## Convolution Layer Example"
      ]
    },
    {
      "cell_type": "code",
      "execution_count": 4,
      "metadata": {
        "colab": {
          "base_uri": "https://localhost:8080/"
        },
        "id": "MAyG6GGTU_mC",
        "outputId": "4d17786b-ed05-4829-b817-0bce0ca2b197"
      },
      "outputs": [
        {
          "output_type": "stream",
          "name": "stdout",
          "text": [
            "연산 전 torch.Size([10, 1, 20, 20])\n",
            "conv1 연산 후 torch.Size([10, 3, 16, 16])\n",
            "conv2 연산 후 torch.Size([10, 10, 12, 12])\n",
            "차원 감소 후 torch.Size([10, 1440])\n",
            "fc1 연산 후 torch.Size([10, 50])\n",
            "fc2 연산 후 torch.Size([10, 10])\n"
          ]
        }
      ],
      "source": [
        "import torch\n",
        "import torch.nn as nn\n",
        "import torch.nn.functional as F\n",
        "\n",
        "class CNN(nn.Module):\n",
        "  def __init__(self):\n",
        "    super(CNN, self).__init__()\n",
        "\n",
        "    ## 조건1: conv layer 2개 & fc layer 2개\n",
        "    ## 조건2: kernel size=5, stride=1로 통일\n",
        "    ## output을 참고하여 차원을 계산해주세요!\n",
        "    self.conv1 = nn.Conv2d(in_channels=1, out_channels=3, kernel_size=5, stride=1)\n",
        "    self.conv2 = nn.Conv2d(in_channels=3, out_channels=10, kernel_size=5, stride=1)\n",
        "    self.fc1 = nn.Linear(in_features=10*12*12, out_features=50)\n",
        "    self.fc2 = nn.Linear(in_features=50, out_features=10)\n",
        "\n",
        "  def forward(self, x):\n",
        "    print(\"연산 전\", x.size())\n",
        "    x = F.relu(self.conv1(x))\n",
        "    print(\"conv1 연산 후\", x.size())\n",
        "    x = F.relu(self.conv2(x))\n",
        "    print(\"conv2 연산 후\",x.size())\n",
        "    x = x.view(-1, 10 * 12 * 12)\n",
        "    print(\"차원 감소 후\", x.size())\n",
        "    x = F.relu(self.fc1(x))\n",
        "    print(\"fc1 연산 후\", x.size())\n",
        "    x = self.fc2(x)\n",
        "    print(\"fc2 연산 후\", x.size())\n",
        "    return x\n",
        "\n",
        "cnn = CNN()\n",
        "output = cnn(torch.randn(10, 1, 20, 20))  # Input Size: (10, 1, 20, 20)"
      ]
    },
    {
      "cell_type": "markdown",
      "metadata": {
        "id": "0It8H-mysBr-"
      },
      "source": [
        "## Max Pooling Layer Example"
      ]
    },
    {
      "cell_type": "code",
      "execution_count": 6,
      "metadata": {
        "colab": {
          "base_uri": "https://localhost:8080/"
        },
        "id": "LkOwXPFNchie",
        "outputId": "73ab9eba-44d3-49a1-dfb9-86ca321583e6"
      },
      "outputs": [
        {
          "output_type": "stream",
          "name": "stdout",
          "text": [
            "연산 전 torch.Size([10, 1, 20, 20])\n",
            "max_pool1 연산 후 torch.Size([10, 1, 10, 10])\n",
            "max_pool2 연산 후 torch.Size([10, 1, 5, 5])\n",
            "차원 감소 후 torch.Size([1, 250])\n",
            "fc1 연산 후 torch.Size([1, 50])\n",
            "fc2 연산 후 torch.Size([1, 10])\n"
          ]
        }
      ],
      "source": [
        "class CNN(nn.Module):\n",
        "  def __init__(self):\n",
        "    super(CNN, self).__init__()\n",
        "\n",
        "    ## 조건1: 최대풀링 layer 2개 & fc layer 2개\n",
        "    ## 조건2: kernel size=2로 통일, stride는 따로 지정할 필요 없음\n",
        "    ## output을 참고하여 차원을 계산해주세요!\n",
        "    self.max_pool1 = nn.Sequential(\n",
        "        nn.Conv2d(in_channels=1, out_channels=1, kernel_size=2, padding=1),\n",
        "        nn.MaxPool2d(kernel_size=2)\n",
        "    )\n",
        "    self.max_pool2 = nn.Sequential(\n",
        "        nn.Conv2d(in_channels=1, out_channels=1, kernel_size=2, padding=1),\n",
        "        nn.MaxPool2d(kernel_size=2)\n",
        "    )\n",
        "    self.fc1 = nn.Linear(in_features=10*5*5, out_features=50)\n",
        "    self.fc2 = nn.Linear(in_features=50, out_features=10)\n",
        "\n",
        "  def forward(self, x):\n",
        "    print(\"연산 전\", x.size())\n",
        "    x = F.relu(self.max_pool1(x))\n",
        "    print(\"max_pool1 연산 후\", x.size())\n",
        "    x = F.relu(self.max_pool2(x))\n",
        "    print(\"max_pool2 연산 후\",x.size())\n",
        "    x = x.view(-1, 10 * 5 * 5)\n",
        "    print(\"차원 감소 후\", x.size())\n",
        "    x = F.relu(self.fc1(x))\n",
        "    print(\"fc1 연산 후\", x.size())\n",
        "    x = self.fc2(x)\n",
        "    print(\"fc2 연산 후\", x.size())\n",
        "    return x\n",
        "\n",
        "cnn = CNN()\n",
        "output = cnn(torch.randn(10, 1, 20, 20))"
      ]
    },
    {
      "cell_type": "markdown",
      "metadata": {
        "id": "uDMn2y5_sBr-"
      },
      "source": [
        "## MNIST 데이터셋 train"
      ]
    },
    {
      "cell_type": "code",
      "execution_count": 7,
      "metadata": {
        "id": "YhfopkrQcp1P",
        "colab": {
          "base_uri": "https://localhost:8080/"
        },
        "outputId": "a51828be-027e-407f-cbfb-974735f3b76a"
      },
      "outputs": [
        {
          "output_type": "stream",
          "name": "stdout",
          "text": [
            "Requirement already satisfied: torchvision in /usr/local/lib/python3.10/dist-packages (0.20.0+cu121)\n",
            "Requirement already satisfied: numpy in /usr/local/lib/python3.10/dist-packages (from torchvision) (1.26.4)\n",
            "Requirement already satisfied: torch==2.5.0 in /usr/local/lib/python3.10/dist-packages (from torchvision) (2.5.0+cu121)\n",
            "Requirement already satisfied: pillow!=8.3.*,>=5.3.0 in /usr/local/lib/python3.10/dist-packages (from torchvision) (10.4.0)\n",
            "Requirement already satisfied: filelock in /usr/local/lib/python3.10/dist-packages (from torch==2.5.0->torchvision) (3.16.1)\n",
            "Requirement already satisfied: typing-extensions>=4.8.0 in /usr/local/lib/python3.10/dist-packages (from torch==2.5.0->torchvision) (4.12.2)\n",
            "Requirement already satisfied: networkx in /usr/local/lib/python3.10/dist-packages (from torch==2.5.0->torchvision) (3.4.2)\n",
            "Requirement already satisfied: jinja2 in /usr/local/lib/python3.10/dist-packages (from torch==2.5.0->torchvision) (3.1.4)\n",
            "Requirement already satisfied: fsspec in /usr/local/lib/python3.10/dist-packages (from torch==2.5.0->torchvision) (2024.10.0)\n",
            "Requirement already satisfied: sympy==1.13.1 in /usr/local/lib/python3.10/dist-packages (from torch==2.5.0->torchvision) (1.13.1)\n",
            "Requirement already satisfied: mpmath<1.4,>=1.1.0 in /usr/local/lib/python3.10/dist-packages (from sympy==1.13.1->torch==2.5.0->torchvision) (1.3.0)\n",
            "Requirement already satisfied: MarkupSafe>=2.0 in /usr/local/lib/python3.10/dist-packages (from jinja2->torch==2.5.0->torchvision) (3.0.2)\n"
          ]
        }
      ],
      "source": [
        "!pip install torchvision"
      ]
    },
    {
      "cell_type": "code",
      "execution_count": 8,
      "metadata": {
        "id": "CqFN5YM5cqKe"
      },
      "outputs": [],
      "source": [
        "import torch.optim as optim\n",
        "from torchvision import datasets, transforms"
      ]
    },
    {
      "cell_type": "code",
      "execution_count": 18,
      "metadata": {
        "id": "IJb_C4ptcu6G"
      },
      "outputs": [],
      "source": [
        "train_data = datasets.MNIST('./data/', train=True, download=True, transform=transforms.Compose([\n",
        "        transforms.ToTensor(),\n",
        "        transforms.Normalize((0.1307,), (0.3081,))\n",
        "    ])) # 학습 데이터\n",
        "train_loader = torch.utils.data.DataLoader(dataset=train_data, batch_size=50, shuffle=True)\n",
        "\n",
        "test_data = datasets.MNIST('./data/', train=False, transform=transforms.Compose([\n",
        "        transforms.ToTensor(),\n",
        "        transforms.Normalize((0.1307,), (0.3081,))\n",
        "    ])) # 테스트 데이터\n",
        "test_loader = torch.utils.data.DataLoader(dataset=test_data, batch_size=50, shuffle=True)"
      ]
    },
    {
      "cell_type": "code",
      "execution_count": 19,
      "metadata": {
        "id": "YP3tEuo6ct8A"
      },
      "outputs": [],
      "source": [
        "class CNN(nn.Module):\n",
        "    def __init__(self):\n",
        "        super(CNN, self).__init__()\n",
        "\n",
        "        ## 조건1: conv layer 2개 & fc layer 2개\n",
        "            ## 첫 번째 conv layer: 입력 채널 1, 출력 채널 20\n",
        "            ## 두 번째 fc layer: 출력 채널 10\n",
        "        ## 조건2: kernel_size=5, stride=1\n",
        "        self.conv1 = nn.Conv2d(in_channels=1, out_channels=20, kernel_size=5, stride=1)\n",
        "        self.conv2 = nn.Conv2d(in_channels=20, out_channels=50, kernel_size=5, stride=1)\n",
        "        self.fc1 = nn.Linear(in_features=50*4*4, out_features=50)\n",
        "        self.fc2 = nn.Linear(in_features=50, out_features=10)\n",
        "\n",
        "    def forward(self, x):\n",
        "\n",
        "        ## 조건1: relu -> max_pool2d -> relu -> max_pool2d 순서로 이루어짐\n",
        "        ## 조건2: kernel_size=2, stride=2\n",
        "        x = F.relu(self.conv1(x))\n",
        "        x = F.max_pool2d(x, kernel_size=2, stride=2)\n",
        "        x = F.relu(self.conv2(x))\n",
        "        x = F.max_pool2d(x, kernel_size=2, stride=2)\n",
        "\n",
        "        x = x.view(-1, 4 * 4 * 50) # [batch_size, 50, 4, 4]\n",
        "        x = F.relu(self.fc1(x))\n",
        "        x = self.fc2(x)\n",
        "\n",
        "        return x"
      ]
    },
    {
      "cell_type": "code",
      "execution_count": 20,
      "metadata": {
        "id": "EO2ULx3Sc2GM"
      },
      "outputs": [],
      "source": [
        "cnn = CNN()\n",
        "criterion = torch.nn.CrossEntropyLoss()\n",
        "optimizer = optim.SGD(cnn.parameters(), lr=0.01)"
      ]
    },
    {
      "cell_type": "code",
      "execution_count": 21,
      "metadata": {
        "id": "gAwckNWhc4Nr",
        "colab": {
          "base_uri": "https://localhost:8080/"
        },
        "outputId": "e6cdb629-4330-4910-87d7-d8c19b99e5c9"
      },
      "outputs": [
        {
          "output_type": "stream",
          "name": "stdout",
          "text": [
            "loss of 0 epoch, 0 index : 2.3030405044555664\n",
            "loss of 0 epoch, 100 index : 1.5961107015609741\n",
            "loss of 0 epoch, 200 index : 0.5063483119010925\n",
            "loss of 0 epoch, 300 index : 0.2967080771923065\n",
            "loss of 0 epoch, 400 index : 0.2291674166917801\n",
            "loss of 0 epoch, 500 index : 0.2898487150669098\n",
            "loss of 0 epoch, 600 index : 0.31588876247406006\n",
            "loss of 0 epoch, 700 index : 0.34736186265945435\n",
            "loss of 0 epoch, 800 index : 0.07123079150915146\n",
            "loss of 0 epoch, 900 index : 0.08498483896255493\n",
            "loss of 0 epoch, 1000 index : 0.33528533577919006\n",
            "loss of 0 epoch, 1100 index : 0.30079174041748047\n",
            "loss of 1 epoch, 0 index : 0.3435586988925934\n",
            "loss of 1 epoch, 100 index : 0.306460440158844\n",
            "loss of 1 epoch, 200 index : 0.05701503902673721\n",
            "loss of 1 epoch, 300 index : 0.09925548732280731\n",
            "loss of 1 epoch, 400 index : 0.13906477391719818\n",
            "loss of 1 epoch, 500 index : 0.08920513093471527\n",
            "loss of 1 epoch, 600 index : 0.18020641803741455\n",
            "loss of 1 epoch, 700 index : 0.13429851830005646\n",
            "loss of 1 epoch, 800 index : 0.16163869202136993\n",
            "loss of 1 epoch, 900 index : 0.043808355927467346\n",
            "loss of 1 epoch, 1000 index : 0.0610119104385376\n",
            "loss of 1 epoch, 1100 index : 0.09409622848033905\n",
            "loss of 2 epoch, 0 index : 0.049359094351530075\n",
            "loss of 2 epoch, 100 index : 0.15507040917873383\n",
            "loss of 2 epoch, 200 index : 0.09196748584508896\n",
            "loss of 2 epoch, 300 index : 0.23526962101459503\n",
            "loss of 2 epoch, 400 index : 0.21838775277137756\n",
            "loss of 2 epoch, 500 index : 0.1396472454071045\n",
            "loss of 2 epoch, 600 index : 0.10926572978496552\n",
            "loss of 2 epoch, 700 index : 0.07268352061510086\n",
            "loss of 2 epoch, 800 index : 0.016441209241747856\n",
            "loss of 2 epoch, 900 index : 0.11627350747585297\n",
            "loss of 2 epoch, 1000 index : 0.08417374640703201\n",
            "loss of 2 epoch, 1100 index : 0.013319088146090508\n",
            "loss of 3 epoch, 0 index : 0.01532348059117794\n",
            "loss of 3 epoch, 100 index : 0.03717959672212601\n",
            "loss of 3 epoch, 200 index : 0.035745784640312195\n",
            "loss of 3 epoch, 300 index : 0.022729769349098206\n",
            "loss of 3 epoch, 400 index : 0.06105086952447891\n",
            "loss of 3 epoch, 500 index : 0.053632739931344986\n",
            "loss of 3 epoch, 600 index : 0.014856032095849514\n",
            "loss of 3 epoch, 700 index : 0.031828850507736206\n",
            "loss of 3 epoch, 800 index : 0.14330367743968964\n",
            "loss of 3 epoch, 900 index : 0.022782884538173676\n",
            "loss of 3 epoch, 1000 index : 0.07246989756822586\n",
            "loss of 3 epoch, 1100 index : 0.019839631393551826\n",
            "loss of 4 epoch, 0 index : 0.09723571687936783\n",
            "loss of 4 epoch, 100 index : 0.04101215675473213\n",
            "loss of 4 epoch, 200 index : 0.1483873873949051\n",
            "loss of 4 epoch, 300 index : 0.10600224137306213\n",
            "loss of 4 epoch, 400 index : 0.0289552453905344\n",
            "loss of 4 epoch, 500 index : 0.09749747067689896\n",
            "loss of 4 epoch, 600 index : 0.04753401130437851\n",
            "loss of 4 epoch, 700 index : 0.03186195716261864\n",
            "loss of 4 epoch, 800 index : 0.11252105981111526\n",
            "loss of 4 epoch, 900 index : 0.045833900570869446\n",
            "loss of 4 epoch, 1000 index : 0.04395408183336258\n",
            "loss of 4 epoch, 1100 index : 0.007924609817564487\n",
            "loss of 5 epoch, 0 index : 0.026159033179283142\n",
            "loss of 5 epoch, 100 index : 0.018469328060746193\n",
            "loss of 5 epoch, 200 index : 0.01561169233173132\n",
            "loss of 5 epoch, 300 index : 0.016341187059879303\n",
            "loss of 5 epoch, 400 index : 0.0783265233039856\n",
            "loss of 5 epoch, 500 index : 0.1665261685848236\n",
            "loss of 5 epoch, 600 index : 0.004482966847717762\n",
            "loss of 5 epoch, 700 index : 0.016960017383098602\n",
            "loss of 5 epoch, 800 index : 0.03628217428922653\n",
            "loss of 5 epoch, 900 index : 0.0784766897559166\n",
            "loss of 5 epoch, 1000 index : 0.006902377586811781\n",
            "loss of 5 epoch, 1100 index : 0.025098402053117752\n",
            "loss of 6 epoch, 0 index : 0.05306435003876686\n",
            "loss of 6 epoch, 100 index : 0.02213207446038723\n",
            "loss of 6 epoch, 200 index : 0.0017763744108378887\n",
            "loss of 6 epoch, 300 index : 0.022403689101338387\n",
            "loss of 6 epoch, 400 index : 0.11857013404369354\n",
            "loss of 6 epoch, 500 index : 0.00930589996278286\n",
            "loss of 6 epoch, 600 index : 0.05292811244726181\n",
            "loss of 6 epoch, 700 index : 0.02007412165403366\n",
            "loss of 6 epoch, 800 index : 0.02133464813232422\n",
            "loss of 6 epoch, 900 index : 0.011055721901357174\n",
            "loss of 6 epoch, 1000 index : 0.013529859483242035\n",
            "loss of 6 epoch, 1100 index : 0.0409400649368763\n",
            "loss of 7 epoch, 0 index : 0.06588593870401382\n",
            "loss of 7 epoch, 100 index : 0.1577809751033783\n",
            "loss of 7 epoch, 200 index : 0.015167852863669395\n",
            "loss of 7 epoch, 300 index : 0.07520058751106262\n",
            "loss of 7 epoch, 400 index : 0.06327234953641891\n",
            "loss of 7 epoch, 500 index : 0.006133673246949911\n",
            "loss of 7 epoch, 600 index : 0.013984983786940575\n",
            "loss of 7 epoch, 700 index : 0.048225536942481995\n",
            "loss of 7 epoch, 800 index : 0.007334303110837936\n",
            "loss of 7 epoch, 900 index : 0.05340297147631645\n",
            "loss of 7 epoch, 1000 index : 0.05638287216424942\n",
            "loss of 7 epoch, 1100 index : 0.11417827010154724\n",
            "loss of 8 epoch, 0 index : 0.1259804517030716\n",
            "loss of 8 epoch, 100 index : 0.045410167425870895\n",
            "loss of 8 epoch, 200 index : 0.013801113702356815\n",
            "loss of 8 epoch, 300 index : 0.03518962487578392\n",
            "loss of 8 epoch, 400 index : 0.006892259232699871\n",
            "loss of 8 epoch, 500 index : 0.02218940295279026\n",
            "loss of 8 epoch, 600 index : 0.00795252900570631\n",
            "loss of 8 epoch, 700 index : 0.013207065872848034\n",
            "loss of 8 epoch, 800 index : 0.044445980340242386\n",
            "loss of 8 epoch, 900 index : 0.020383451133966446\n",
            "loss of 8 epoch, 1000 index : 0.027614956721663475\n",
            "loss of 8 epoch, 1100 index : 0.006140244193375111\n",
            "loss of 9 epoch, 0 index : 0.01940145343542099\n",
            "loss of 9 epoch, 100 index : 0.07865254580974579\n",
            "loss of 9 epoch, 200 index : 0.01789727807044983\n",
            "loss of 9 epoch, 300 index : 0.004867841023951769\n",
            "loss of 9 epoch, 400 index : 0.001943915500305593\n",
            "loss of 9 epoch, 500 index : 0.0037078424356877804\n",
            "loss of 9 epoch, 600 index : 0.042098477482795715\n",
            "loss of 9 epoch, 700 index : 0.021278763189911842\n",
            "loss of 9 epoch, 800 index : 0.028163932263851166\n",
            "loss of 9 epoch, 900 index : 0.013312476687133312\n",
            "loss of 9 epoch, 1000 index : 0.01265845075249672\n",
            "loss of 9 epoch, 1100 index : 0.06434275954961777\n"
          ]
        }
      ],
      "source": [
        "cnn.train()  # 학습을 위함\n",
        "for epoch in range(10):\n",
        "  for index, (data, target) in enumerate(train_loader):\n",
        "    optimizer.zero_grad()  # 기울기 초기화\n",
        "    output = cnn(data)\n",
        "    loss = criterion(output, target)\n",
        "    loss.backward()  # 역전파\n",
        "    optimizer.step()\n",
        "\n",
        "    if index % 100 == 0:\n",
        "      print(\"loss of {} epoch, {} index : {}\".format(epoch, index, loss.item()))"
      ]
    },
    {
      "cell_type": "code",
      "execution_count": 22,
      "metadata": {
        "id": "l2PnlaXIc6dm",
        "colab": {
          "base_uri": "https://localhost:8080/"
        },
        "outputId": "f4f472aa-53f1-409f-a2ca-9a5b61239bac"
      },
      "outputs": [
        {
          "output_type": "stream",
          "name": "stdout",
          "text": [
            "\n",
            "Test set: Average loss: 7.1055, Accuracy: 9873/10000 (99%)\n",
            "\n"
          ]
        }
      ],
      "source": [
        "cnn.eval()  # test case 학습 방지를 위함\n",
        "test_loss = 0\n",
        "correct = 0\n",
        "with torch.no_grad():\n",
        "  for data, target in test_loader:\n",
        "    output = cnn(data)\n",
        "    test_loss += criterion(output, target).item() # sum up batch loss\n",
        "    pred = output.argmax(dim=1, keepdim=True) # get the index of the max log-probability\n",
        "    correct += pred.eq(target.view_as(pred)).sum().item()\n",
        "print('\\nTest set: Average loss: {:.4f}, Accuracy: {}/{} ({:.0f}%)\\n'.format(\n",
        "        test_loss, correct, len(test_loader.dataset),\n",
        "        100. * correct / len(test_loader.dataset)))"
      ]
    }
  ],
  "metadata": {
    "colab": {
      "provenance": []
    },
    "kernelspec": {
      "display_name": "Python 3",
      "name": "python3"
    },
    "language_info": {
      "name": "python"
    }
  },
  "nbformat": 4,
  "nbformat_minor": 0
}